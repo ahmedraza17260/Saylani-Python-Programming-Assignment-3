{
 "cells": [
  {
   "cell_type": "code",
   "execution_count": 2,
   "id": "8f6c7276",
   "metadata": {},
   "outputs": [
    {
     "name": "stdout",
     "output_type": "stream",
     "text": [
      "Sum of all elements in the list =  3079\n"
     ]
    }
   ],
   "source": [
    "# Question 10\n",
    "# Write a Python program to sum all the numeric items in a list?  \n",
    "\n",
    "listRange  = [412, 445, 178, 220, 240, 798,786]\n",
    "\n",
    "total = sum(listRange)   \n",
    "\n",
    "print(\"Sum of all elements in the list = \",total)"
   ]
  },
  {
   "cell_type": "code",
   "execution_count": 3,
   "id": "3a3f26cf",
   "metadata": {},
   "outputs": [
    {
     "name": "stdout",
     "output_type": "stream",
     "text": [
      "Twinkle, twinkle, little star, \n",
      "\tHow I wonder what you are! \n",
      "\t\tUp above the world so high, \n",
      "\t\tLike a diamond in the sky. \n",
      "Twinkle, twinkle, little star, \n",
      "\tHow I wonder what you are!\n"
     ]
    }
   ],
   "source": [
    "# Question 1\n",
    "# Write a Python program to print the following string in a specific format (see the output).\n",
    "\n",
    "print(\"Twinkle, twinkle, little star, \\n\\tHow I wonder what you are! \\n\\t\\tUp above the world so high, \\n\\t\\tLike a diamond in the sky. \\nTwinkle, twinkle, little star, \\n\\tHow I wonder what you are!\")"
   ]
  },
  {
   "cell_type": "code",
   "execution_count": 4,
   "id": "3e58d1c9",
   "metadata": {},
   "outputs": [
    {
     "name": "stdout",
     "output_type": "stream",
     "text": [
      "3.8.8 (default, Apr 13 2021, 15:08:03) [MSC v.1916 64 bit (AMD64)]\n"
     ]
    }
   ],
   "source": [
    "# Question 2\n",
    "# Write a Python program to get the Python version you are using\n",
    "\n",
    "import sys\n",
    "print (sys.version)"
   ]
  },
  {
   "cell_type": "code",
   "execution_count": 5,
   "id": "44ab2ddb",
   "metadata": {},
   "outputs": [
    {
     "name": "stdout",
     "output_type": "stream",
     "text": [
      "Current date and time : \n",
      "2021-10-24 14:16:55\n"
     ]
    }
   ],
   "source": [
    "# Question 3 \n",
    "#  Write a Python program to display the current date and time.\n",
    "\n",
    "import datetime\n",
    "now = datetime.datetime.now()\n",
    "print (\"Current date and time : \")\n",
    "print (now.strftime(\"%Y-%m-%d %H:%M:%S\"))"
   ]
  },
  {
   "cell_type": "code",
   "execution_count": 6,
   "id": "9a95808e",
   "metadata": {},
   "outputs": [
    {
     "name": "stdout",
     "output_type": "stream",
     "text": [
      "Input the radius of the circle : 786\n",
      "The area of the circle with radius 786.0 is: 1940863.3750171599\n"
     ]
    }
   ],
   "source": [
    "# Question 4\n",
    "# Write a Python program which accepts the radius of a circle from the user and compute  the area. \n",
    "\n",
    "from math import pi\n",
    "r = float(input (\"Input the radius of the circle : \"))\n",
    "print (\"The area of the circle with radius \" + str(r) + \" is: \" + str(pi * r**2))\n"
   ]
  },
  {
   "cell_type": "code",
   "execution_count": 7,
   "id": "1ecc76de",
   "metadata": {},
   "outputs": [
    {
     "name": "stdout",
     "output_type": "stream",
     "text": [
      "Input your First Name : Raza\n",
      "Input your Last Name : Ahmed\n",
      "Hello  Ahmed Raza\n"
     ]
    }
   ],
   "source": [
    "# Question 5\n",
    "# Write a Python program which accepts the user's first and last name and print them in  reverse order with a space between them. \n",
    "fname = input(\"Input your First Name : \")\n",
    "lname = input(\"Input your Last Name : \")\n",
    "print (\"Hello  \" + lname + \" \" + fname)"
   ]
  },
  {
   "cell_type": "code",
   "execution_count": 8,
   "id": "b6b84c1f",
   "metadata": {},
   "outputs": [
    {
     "name": "stdout",
     "output_type": "stream",
     "text": [
      "Enter first number:78\n",
      "Enter second number:92\n",
      "170\n"
     ]
    }
   ],
   "source": [
    "# Question 6\n",
    "# Write a python program which takes two inputs from user and print them addition    \n",
    "a = int(input(\"Enter first number:\"))\n",
    "b = int(input(\"Enter second number:\"))\n",
    "sum = a+b\n",
    "print(sum)"
   ]
  },
  {
   "cell_type": "code",
   "execution_count": 9,
   "id": "86b670ad",
   "metadata": {},
   "outputs": [
    {
     "name": "stdout",
     "output_type": "stream",
     "text": [
      "Enter Marks Obtained in 5 Subjects: \n",
      "99\n",
      "99\n",
      "99\n",
      "98\n",
      "97\n",
      "\n",
      "The Total marks is:   \t 492 / 500\n",
      "\n",
      "The Percentage is:    \t 98.4 %\n",
      "Your Grade is A1\n"
     ]
    }
   ],
   "source": [
    "# Question 7\n",
    "# Write a program which takes 5 inputs from user for different subject’s marks, total it  and generate mark sheet using grades ?  \n",
    "print(\"Enter Marks Obtained in 5 Subjects: \")\n",
    "markOne = int(input())\n",
    "markTwo = int(input())\n",
    "markThree = int(input())\n",
    "markFour = int(input())\n",
    "markFive = int(input())\n",
    "\n",
    "tot = markOne+markTwo+markThree+markFour+markFive\n",
    "per = tot/5\n",
    "print (\"\\nThe Total marks is:   \\t\", tot, \"/ 500\")\n",
    "print (\"\\nThe Percentage is:    \\t\", per, \"%\")\n",
    "\n",
    "if per<100 and per>=80:\n",
    "    print(\"Your Grade is A1\")\n",
    "elif per<80 and per>=70: \n",
    "    print(\"Your Grade is A\")\n",
    "elif per<70 and per>=60: \n",
    "    print(\"Your Grade is B\")\n",
    "elif per<60 and per>=50: \n",
    "    print(\"Your Grade is C\")\n",
    "elif per<50 and per>=40: \n",
    "    print(\"Your Grade is D\")\n",
    "elif per<40 and per>=33:  \n",
    "    print(\"Your Grade is E\")\n",
    "else:\n",
    "    print(\"Invalid Input!\")"
   ]
  },
  {
   "cell_type": "code",
   "execution_count": 10,
   "id": "9f7f7df2",
   "metadata": {},
   "outputs": [
    {
     "name": "stdout",
     "output_type": "stream",
     "text": [
      "Enter a number: 7894561233216549870\n",
      "7894561233216549870 is Even\n"
     ]
    }
   ],
   "source": [
    "#  Question 8\n",
    "# Write a program which take input from user and identify that the given number is even  or odd?\n",
    "\n",
    "num = int(input(\"Enter a number: \"))\n",
    "if (num % 2) == 0:\n",
    "   print(\"{0} is Even\".format(num))\n",
    "else:\n",
    "   print(\"{0} is Odd\".format(num))"
   ]
  },
  {
   "cell_type": "code",
   "execution_count": 11,
   "id": "447438ee",
   "metadata": {},
   "outputs": [
    {
     "name": "stdout",
     "output_type": "stream",
     "text": [
      "Number of items in the list =  8\n"
     ]
    }
   ],
   "source": [
    "#  Question 9\n",
    "# Write a program which print the length of the list?\n",
    "\n",
    "ListName = [\"Hello\", \"World\", 9 , 6 , 72 , 63 , \"Hello\", \"World\"]\n",
    "print (\"Number of items in the list = \", len(ListName))"
   ]
  },
  {
   "cell_type": "code",
   "execution_count": 12,
   "id": "54c026dd",
   "metadata": {},
   "outputs": [
    {
     "name": "stdout",
     "output_type": "stream",
     "text": [
      "Largest element is: 4564\n"
     ]
    }
   ],
   "source": [
    "# Question 11 \n",
    "# Write a Python program to get the largest number from a numeric list.  \n",
    "\n",
    "list1 = [1078, 250, 4564, 450, 979, 897]\n",
    "list1.sort()\n",
    "print(\"Largest element is:\", list1[-1])"
   ]
  },
  {
   "cell_type": "code",
   "execution_count": 13,
   "id": "a585084b",
   "metadata": {},
   "outputs": [
    {
     "name": "stdout",
     "output_type": "stream",
     "text": [
      "1\n",
      "2\n",
      "3\n",
      "-465\n",
      "0\n",
      "-103\n",
      "-201\n",
      "-304\n",
      "1\n",
      "-5\n",
      "4\n",
      "3\n"
     ]
    }
   ],
   "source": [
    "# Question 12\n",
    "# Write a program that prints out all the elements of the list that are less than 5..  \n",
    "\n",
    "a = [1, 2, 3, -465, 0, -103, -201, -304, 505, 819, 1, -5, 4, 3]\n",
    "for i in a:\n",
    "    if i < 5:\n",
    "        print(i)"
   ]
  },
  {
   "cell_type": "code",
   "execution_count": null,
   "id": "286b06cf",
   "metadata": {},
   "outputs": [],
   "source": []
  }
 ],
 "metadata": {
  "kernelspec": {
   "display_name": "Python 3",
   "language": "python",
   "name": "python3"
  },
  "language_info": {
   "codemirror_mode": {
    "name": "ipython",
    "version": 3
   },
   "file_extension": ".py",
   "mimetype": "text/x-python",
   "name": "python",
   "nbconvert_exporter": "python",
   "pygments_lexer": "ipython3",
   "version": "3.8.8"
  }
 },
 "nbformat": 4,
 "nbformat_minor": 5
}
